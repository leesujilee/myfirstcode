{
  "nbformat": 4,
  "nbformat_minor": 0,
  "metadata": {
    "colab": {
      "provenance": [],
      "authorship_tag": "ABX9TyOooxUjQydeErxOnGkYyCUI",
      "include_colab_link": true
    },
    "kernelspec": {
      "name": "python3",
      "display_name": "Python 3"
    },
    "language_info": {
      "name": "python"
    }
  },
  "cells": [
    {
      "cell_type": "markdown",
      "metadata": {
        "id": "view-in-github",
        "colab_type": "text"
      },
      "source": [
        "<a href=\"https://colab.research.google.com/github/leesujilee/myfirstcode/blob/main/CTBA.ipynb\" target=\"_parent\"><img src=\"https://colab.research.google.com/assets/colab-badge.svg\" alt=\"Open In Colab\"/></a>"
      ]
    },
    {
      "cell_type": "code",
      "execution_count": null,
      "metadata": {
        "id": "R9ltemaDbcFy"
      },
      "outputs": [],
      "source": []
    },
    {
      "cell_type": "markdown",
      "source": [
        "1. 쇼핑몰의 배송료를 계산하는 코드 작성\n"
      ],
      "metadata": {
        "id": "CmHn0hIPccSJ"
      }
    },
    {
      "cell_type": "code",
      "source": [
        "print(\" 상품의 가격을 입력하시오\")\n",
        "price =int(input(\"구입금액 입력: \"))\n",
        "if price > 20000:\n",
        "  shopping_cost = 0\n",
        "  print(f\"구입금액이 2만원 이상입니다.\")\n",
        "else:\n",
        "  shoppimg_cost = 3000\n",
        "  print(f\"구입금액이 20만원 이하입니다.\")\n",
        "print(f\"회원님의 배송비는 {shopping_cost}원 입니다.\")\n",
        "\n"
      ],
      "metadata": {
        "colab": {
          "base_uri": "https://localhost:8080/"
        },
        "id": "Xfv46wS1dCpo",
        "outputId": "84f9bf70-9540-4422-dd04-5cba8c0d707e"
      },
      "execution_count": null,
      "outputs": [
        {
          "output_type": "stream",
          "name": "stdout",
          "text": [
            " 상품의 가격을 입력하시오\n",
            "구입금액 입력: 20001\n",
            "구입금액이 2만원 이상입니다.\n",
            "회원님의 배송비는 0원 입니다.\n"
          ]
        }
      ]
    },
    {
      "cell_type": "code",
      "source": [
        "\n",
        "# 사용자로부터 상품의 가격을 입력받습니다.\n",
        "print(\"상품의 가격을 입력하시오.\")\n",
        "price = int(input(\"구입 금액 입력: \"))\n",
        "\n",
        "# 입력받은 가격에 따라 배송비를 계산합니다.\n",
        "if price > 20000:\n",
        "    shopping_cost = 0\n",
        "    print(\"구입 금액이 2만원 이상입니다.\")\n",
        "else:\n",
        "    shopping_cost = 3000\n",
        "    print(\"구입 금액이 2만원 이하입니다.\")\n",
        "\n",
        "# 계산된 배송비를 출력합니다.\n",
        "print(f\"회원님의 배송비는 {shopping_cost}원 입니다.\")"
      ],
      "metadata": {
        "colab": {
          "base_uri": "https://localhost:8080/"
        },
        "id": "DKtUuvIb7peB",
        "outputId": "40e633ec-aa5e-49cc-f7b8-1636a6c82f9d"
      },
      "execution_count": 6,
      "outputs": [
        {
          "output_type": "stream",
          "name": "stdout",
          "text": [
            "상품의 가격을 입력하시오.\n",
            "구입 금액 입력: 20001\n",
            "구입 금액이 2만원 이상입니다.\n",
            "회원님의 배송비는 0원 입니다.\n"
          ]
        }
      ]
    },
    {
      "cell_type": "markdown",
      "source": [
        "위의 코드는 사용자로부터 상품의 가격을 입력받고, 입력받은 가격에 따라 배송비를 계산하여 출력하는 예시입니다. 코드를 한 줄씩 살펴보겠습니다.\n",
        "\n",
        "print(\"상품의 가격을 입력하시오.\"): 사용자에게 상품의 가격을 입력하라는 안내 메시지를 출력합니다.\n",
        "price = int(input(\"구입 금액 입력: \")): 사용자로부터 구입 금액을 입력받고, 입력받은 값을 정수형으로 변환하여 price 변수에 저장합니다.\n",
        "if price > 20000:: 만약 price가 20000보다 크면 아래의 코드 블록을 실행합니다.\n",
        "  shopping_cost = 0: shopping_cost 변수에 0을 할당하여 배송비를 0으로 설정합니다.\n",
        "  print(\"구입 금액이 2만원 이상입니다.\"): \"구입 금액이 2만원 이상입니다.\"라는 메시지를 출력합니다.\n",
        "else:: 위의 조건문이 거짓인 경우 아래의 코드 블록을 실행합니다.\n",
        "  shopping_cost = 3000: shopping_cost 변수에 3000을 할당하여 배송비를 3000으로 설정합니다.\n",
        "  print(\"구입 금액이 2만원 이하입니다.\"): \"구입 금액이 2만원 이하입니다.\"라는 메시지를 출력합니다.\n",
        "print(f\"회원님의 배송비는 {shopping_cost}원 입니다.\"): shopping_cost 변수의 값을 출력하여 회원의 배송비를 알려줍니다.\n",
        "위의 코드는 상품의 가격을 입력받아 구입 금액에 따라 배송비를 계산하여 출력하는 예시입니다. 입력받은 가격이 20000 이상인 경우 배송비는 0이 되고, 20000 이하인 경우 배송비는 3000입니다."
      ],
      "metadata": {
        "id": "f6nHamB-2TVb"
      }
    },
    {
      "cell_type": "markdown",
      "source": [],
      "metadata": {
        "id": "8rdBHKz12SeM"
      }
    },
    {
      "cell_type": "markdown",
      "source": [
        "3. 근무시간에 따라 초과근무와 정상근무를 판별하는 코드\n",
        " - work_hour\n",
        "\n",
        " - 코드 work_hour > 72\n"
      ],
      "metadata": {
        "id": "fiSKbU7Sh2Hg"
      }
    },
    {
      "cell_type": "code",
      "source": [
        "print(\"근무 시간을 입력하시오.\")\n",
        "work_hour = int(input(\"근무시간 입력: \"))\n",
        "if work_hour >=72:\n",
        "  print(f\"초과근무입니다.\")\n",
        "else:\n",
        "  print(f\"정상근무입니다. \")\n"
      ],
      "metadata": {
        "colab": {
          "base_uri": "https://localhost:8080/"
        },
        "id": "xtnVbLq3jjJI",
        "outputId": "896a9f0e-9727-4f93-9891-3b97692b6c11"
      },
      "execution_count": null,
      "outputs": [
        {
          "output_type": "stream",
          "name": "stdout",
          "text": [
            "근무 시간을 입력하시오.\n",
            "근무시간 입력: 72\n",
            "초과근무입니다.\n"
          ]
        }
      ]
    },
    {
      "cell_type": "code",
      "source": [],
      "metadata": {
        "id": "ssj8WmXR8nbY"
      },
      "execution_count": null,
      "outputs": []
    },
    {
      "cell_type": "code",
      "source": [
        "# 사용자로부터 근무 시간을 입력받습니다.\n",
        "print(\"근무 시간을 입력하시오.\")\n",
        "work_hour = int(input(\"근무시간 입력: \"))\n",
        "\n",
        "# 입력받은 근무 시간에 따라 근무 상태를 출력합니다.\n",
        "if work_hour >= 72:\n",
        "    print(\"초과근무입니다.\")\n",
        "else:\n",
        "    print(\"정상근무입니다.\")\n"
      ],
      "metadata": {
        "colab": {
          "base_uri": "https://localhost:8080/"
        },
        "id": "R0cZqQWB8jOy",
        "outputId": "1a4ad60b-d5ba-4de2-db35-94e5c695d62b"
      },
      "execution_count": 7,
      "outputs": [
        {
          "output_type": "stream",
          "name": "stdout",
          "text": [
            "근무 시간을 입력하시오.\n",
            "근무시간 입력: 72\n",
            "초과근무입니다.\n"
          ]
        }
      ]
    },
    {
      "cell_type": "markdown",
      "source": [
        "위의 코드는 사용자로부터 근무 시간을 입력받고, 입력받은 근무 시간에 따라 근무 상태를 출력하는 예시입니다. 코드를 한 줄씩 살펴보겠습니다.\n",
        "\n",
        "print(\"근무 시간을 입력하시오.\"): 사용자에게 근무 시간을 입력하라는 안내 메시지를 출력합니다.\n",
        "work_hour = int(input(\"근무시간 입력: \")): 사용자로부터 근무 시간을 입력받고, 입력받은 값을 정수형으로 변환하여 work_hour 변수에 저장합니다.\n",
        "if work_hour >= 72:: 만약 work_hour가 72 이상이면 아래의 코드 블록을 실행합니다.\n",
        "  print(\"초과근무입니다.\"): \"초과근무입니다.\"라는 메시지를 출력합니다.\n",
        "else:: 위의 조건문이 거짓인 경우 아래의 코드 블록을 실행합니다.\n",
        "  print(\"정상근무입니다.\"): \"정상근무입니다.\"라는 메시지를 출력합니다.\n",
        "위의 코드는 사용자로부터 근무 시간을 입력받아 입력받은 시간이 72 이상이면 \"초과근무입니다.\"라는 메시지를 출력하고, 72 미만이면 \"정상근무입니다.\"라는 메시지를 출력합니다"
      ],
      "metadata": {
        "id": "eXxEgrKB2rxb"
      }
    },
    {
      "cell_type": "markdown",
      "source": [
        "5. 사용자의 이름과 나이를 물어보고, 답변하는 코드\n",
        "- 사용변수: name, age\n",
        "- 출력할 내용:\n",
        "- 성명:\n",
        "- 나이:\n",
        "- (1) 20이하: 프로그래밍을 배우는 최적의 나이입니다.\n",
        "- (2) 20이상: 아직도 늦지 않습니다.\n"
      ],
      "metadata": {
        "id": "Umz0XFiKm7r-"
      }
    },
    {
      "cell_type": "code",
      "source": [
        "# 사용자로부터 이름을 입력받습니다.\n",
        "print(\"이름을 입력하시오.\")\n",
        "name = input(\"이름 입력: \")\n",
        "\n",
        "# 사용자로부터 나이를 입력받습니다.\n",
        "print(\"나이를 입력하시오.\")\n",
        "age = int(input(\"나이 입력: \"))\n",
        "\n",
        "# 입력받은 나이에 따라 메시지를 출력합니다.\n",
        "if age <= 20:\n",
        "    print(\"프로그래밍을 배우는 최적의 나이입니다.\")\n",
        "else:\n",
        "    print(\"아직도 늦지 않습니다.\")\n"
      ],
      "metadata": {
        "colab": {
          "base_uri": "https://localhost:8080/"
        },
        "id": "iqf855Yi9CBI",
        "outputId": "c3647177-c755-4dc2-9434-8bdc65c52105"
      },
      "execution_count": 10,
      "outputs": [
        {
          "output_type": "stream",
          "name": "stdout",
          "text": [
            "이름을 입력하시오.\n",
            "이름 입력: 이수지\n",
            "나이를 입력하시오.\n",
            "나이 입력: 20\n",
            "프로그래밍을 배우는 최적의 나이입니다.\n"
          ]
        }
      ]
    },
    {
      "cell_type": "markdown",
      "source": [
        "위의 코드는 사용자로부터 이름과 나이를 입력받고, 입력받은 나이에 따라 메시지를 출력하는 예시입니다. 코드를 한 줄씩 살펴보겠습니다.\n",
        "\n",
        "print(\"이름을 입력하시오.\"): 사용자에게 이름을 입력하라는 안내 메시지를 출력합니다.\n",
        "name = input(\"이름 입력: \"): 사용자로부터 이름을 입력받고, 입력받은 값을 name 변수에 저장합니다.\n",
        "print(\"나이를 입력하시오.\"): 사용자에게 나이를 입력하라는 안내 메시지를 출력합니다.\n",
        "age = int(input(\"나이 입력: \")): 사용자로부터 나이를 입력받고, 입력받은 값을 정수형으로 변환하여 age 변수에 저장합니다.\n",
        "if age <= 20:: 만약 age가 20 이하이면 아래의 코드 블록을 실행합니다.\n",
        "  print(\"프로그래밍을 배우는 최적의 나이입니다.\"): \"프로그래밍을 배우는 최적의 나이입니다.\"라는 메시지를 출력합니다.\n",
        "else:: 위의 조건문이 거짓인 경우 아래의 코드 블록을 실행합니다.\n",
        "  print(\"아직도 늦지 않습니다.\"): \"아직도 늦지 않습니다.\"라는 메시지를 출력합니다."
      ],
      "metadata": {
        "id": "YKfmfhdl23AT"
      }
    },
    {
      "cell_type": "markdown",
      "source": [
        "6. 팩토리얼를 계산하는 코드 작성\n",
        "- 1! = 1,2!=2(1),3!=3(2)(1)=6\n"
      ],
      "metadata": {
        "id": "Be_oIloPb_FZ"
      }
    },
    {
      "cell_type": "code",
      "source": [
        "n = 5  # 변수 n을 5로 초기화\n",
        "factorial = 1\n",
        "while n <= 10:\n",
        "    factorial *= n\n",
        "    n += 1\n",
        "print(factorial)\n"
      ],
      "metadata": {
        "colab": {
          "base_uri": "https://localhost:8080/"
        },
        "id": "qW8x5qwdcjR5",
        "outputId": "d5e7751e-a7d2-4ef8-8d5a-3070868e5951"
      },
      "execution_count": 15,
      "outputs": [
        {
          "output_type": "stream",
          "name": "stdout",
          "text": [
            "151200\n"
          ]
        }
      ]
    },
    {
      "cell_type": "markdown",
      "source": [
        "위의 코드는 변수 n을 5로 초기화하고, factorial 변수를 1로 초기화합니다. 그리고 반복문을 사용하여 n이 10 이하인 동안 factorial에 n을 곱하고 n을 1씩 증가시킵니다. 반복문이 종료되면 최종적인 factorial 값을 출력합니다.\n",
        "\n",
        "예를 들어, 위의 코드를 실행하면 5! = 5 x 6 x 7 x 8 x 9 x 10의 결과인 151,200이 출력됩니다.\n",
        "\n",
        "코드에 주석을 추가하고 각 줄의 역할과 설명을 더욱 자세히 적어보았습니다. 이제 코드가 올바르게 동작하고 팩토리얼 값을 계산하여 출력합니다."
      ],
      "metadata": {
        "id": "uGTEHZ7I5do6"
      }
    },
    {
      "cell_type": "code",
      "source": [
        "# 계산할 숫자를 입력받습니다.\n",
        "num = int(input(\"팩토리얼을 계산할 숫자를 입력하시오: \"))\n",
        "\n",
        "# 초기값으로 1을 설정합니다.\n",
        "factorial = 1\n",
        "\n",
        "# 팩토리얼 계산을 위한 반복문인 while 입니다.\n",
        "while num > 0:\n",
        "    factorial *= num\n",
        "    num -= 1\n",
        "\n",
        "# 계산된 팩토리얼을 출력합니다.\n",
        "print(factorial)"
      ],
      "metadata": {
        "colab": {
          "base_uri": "https://localhost:8080/"
        },
        "id": "C4aRAQXA_PTZ",
        "outputId": "269f287a-7c63-4044-b289-f7abc8c7e6e7"
      },
      "execution_count": 14,
      "outputs": [
        {
          "output_type": "stream",
          "name": "stdout",
          "text": [
            "팩토리얼을 계산할 숫자를 입력하시오: 5\n",
            "120\n"
          ]
        }
      ]
    },
    {
      "cell_type": "markdown",
      "source": [
        "주어진 코드는 사용자로부터 입력받은 숫자의 팩토리얼을 계산하여 출력하는 코드입니다. 위의 코드를 실행하면 사용자로부터 팩토리얼을 계산할 숫자를 입력받습니다. 그리고 초기값으로 factorial을 1로 설정합니다. 반복문을 사용하여 입력받은 숫자부터 1까지의 숫자를 차례로 곱하여 factorial에 누적합니다. 반복문이 종료되면 최종적인 팩토리얼 값을 출력합니다.\n",
        "예를 들어, 사용자가 5를 입력했다면 다음과 같이 출력됩니다:\n",
        "이제 코드가 올바르게 동작하고 입력받은 숫자의 팩토리얼을 계산하여 출력합니다."
      ],
      "metadata": {
        "id": "XyFXXn55_Zgn"
      }
    },
    {
      "cell_type": "markdown",
      "source": [
        "7. 구구단을 출력해주는 코드 작성\n",
        "\n",
        "- 변수"
      ],
      "metadata": {
        "id": "iuHAmVs8fEgS"
      }
    },
    {
      "cell_type": "code",
      "source": [
        "dan = int(input(\"구구단에서 몇 단을 출력할래?: \"))  # 사용자로부터 구구단 단수 입력받기\n",
        "i = 1\n",
        "while i <= 9:\n",
        "    print(dan, \"x\", i, \"=\", dan * i)  # 구구단 출력\n",
        "    i += 1"
      ],
      "metadata": {
        "colab": {
          "base_uri": "https://localhost:8080/"
        },
        "id": "1Vuh9HCA-fHI",
        "outputId": "351ba3d2-5a82-45ce-c8a1-c8e990f8a120"
      },
      "execution_count": 13,
      "outputs": [
        {
          "output_type": "stream",
          "name": "stdout",
          "text": [
            "구구단에서 몇 단을 출력할래?: 5\n",
            "5 x 1 = 5\n",
            "5 x 2 = 10\n",
            "5 x 3 = 15\n",
            "5 x 4 = 20\n",
            "5 x 5 = 25\n",
            "5 x 6 = 30\n",
            "5 x 7 = 35\n",
            "5 x 8 = 40\n",
            "5 x 9 = 45\n"
          ]
        }
      ]
    },
    {
      "cell_type": "markdown",
      "source": [
        "위의 코드를 실행하면 사용자로부터 구구단의 단수를 입력받습니다. 그리고 반복문을 사용하여 1부터 9까지의 숫자에 대해 구구단을 출력합니다. 각 줄에서는 입력받은 단수와 현재 숫자를 곱한 값을 출력합니다. 예를 들어, 사용자가 5를 입력했다면 다음과 같이 출력됩니다:\n",
        "\n",
        "구구단에서 몇 단을 출력할래?: 5\n",
        "5 x 1 = 5\n",
        "5 x 2 = 10\n",
        "5 x 3 = 15\n",
        "5 x 4 = 20\n",
        "5 x 5 = 25\n",
        "5 x 6 = 30\n",
        "5 x 7 = 35\n",
        "5 x 8 = 40\n",
        "5 x 9 = 45\n",
        "코드에 주석을 추가하여 각 줄의 역할과 설명을 자세히 적어보았습니다. 이제 코드가 올바르게 동작하고 사용자가 입력한 구구단을 출력합니다."
      ],
      "metadata": {
        "id": "SpdrawNl6qvb"
      }
    }
  ]
}