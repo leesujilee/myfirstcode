{
  "nbformat": 4,
  "nbformat_minor": 0,
  "metadata": {
    "colab": {
      "provenance": [],
      "authorship_tag": "ABX9TyOkOYYnOul/StT95SQkO66A",
      "include_colab_link": true
    },
    "kernelspec": {
      "name": "python3",
      "display_name": "Python 3"
    },
    "language_info": {
      "name": "python"
    }
  },
  "cells": [
    {
      "cell_type": "markdown",
      "metadata": {
        "id": "view-in-github",
        "colab_type": "text"
      },
      "source": [
        "<a href=\"https://colab.research.google.com/github/leesujilee/myfirstcode/blob/main/CTBA.ipynb\" target=\"_parent\"><img src=\"https://colab.research.google.com/assets/colab-badge.svg\" alt=\"Open In Colab\"/></a>"
      ]
    },
    {
      "cell_type": "code",
      "execution_count": null,
      "metadata": {
        "id": "R9ltemaDbcFy"
      },
      "outputs": [],
      "source": []
    },
    {
      "cell_type": "markdown",
      "source": [
        "1. 쇼핑몰의 배송료를 계산하는 코드 작성\n"
      ],
      "metadata": {
        "id": "CmHn0hIPccSJ"
      }
    },
    {
      "cell_type": "code",
      "source": [
        "print(\" 상품의 가격을 입력하시오\")\n",
        "price =int(input(\"구입금액 입력: \"))\n",
        "if price > 20000:\n",
        "  shopping_cost = 0\n",
        "  print(f\"구입금액이 2만원 이상입니다.\")\n",
        "else:\n",
        "  shoppimg_cost = 3000\n",
        "  print(f\"구입금액이 20만원 이하입니다.\")\n",
        "print(f\"회원님의 배송비는 {shopping_cost}원 입니다.\")\n",
        "\n",
        ""
      ],
      "metadata": {
        "colab": {
          "base_uri": "https://localhost:8080/"
        },
        "id": "Xfv46wS1dCpo",
        "outputId": "84f9bf70-9540-4422-dd04-5cba8c0d707e"
      },
      "execution_count": 5,
      "outputs": [
        {
          "output_type": "stream",
          "name": "stdout",
          "text": [
            " 상품의 가격을 입력하시오\n",
            "구입금액 입력: 20001\n",
            "구입금액이 2만원 이상입니다.\n",
            "회원님의 배송비는 0원 입니다.\n"
          ]
        }
      ]
    },
    {
      "cell_type": "markdown",
      "source": [
        "3. 근무시간에 따라 초과근무와 정상근무를 판별하는 코드\n",
        " - work_hour\n",
        "\n",
        " - 코드 work_hour > 72\n",
        ""
      ],
      "metadata": {
        "id": "fiSKbU7Sh2Hg"
      }
    },
    {
      "cell_type": "code",
      "source": [
        "print(\"근무 시간을 입력하시오.\")\n",
        "work_hour = int(input(\"근무시간 입력: \"))\n",
        "if work_hour >=72:\n",
        "  print(f\"초과근무입니다.\")\n",
        "else:\n",
        "  print(f\"정상근무입니다. \")\n"
      ],
      "metadata": {
        "colab": {
          "base_uri": "https://localhost:8080/"
        },
        "id": "xtnVbLq3jjJI",
        "outputId": "896a9f0e-9727-4f93-9891-3b97692b6c11"
      },
      "execution_count": 10,
      "outputs": [
        {
          "output_type": "stream",
          "name": "stdout",
          "text": [
            "근무 시간을 입력하시오.\n",
            "근무시간 입력: 72\n",
            "초과근무입니다.\n"
          ]
        }
      ]
    },
    {
      "cell_type": "markdown",
      "source": [
        "5. 사용자의 이름과 나이를 물어보고, 답변하는 코드\n",
        "- 사용변수: name, age\n",
        "- 출력할 내용:\n",
        "- 성명:\n",
        "- 나이:\n",
        "- (1) 20이하: 프로그래밍을 배우는 최적의 나이입니다.\n",
        "- (2) 20이상: 아직도 늦지 않습니다.\n"
      ],
      "metadata": {
        "id": "Umz0XFiKm7r-"
      }
    },
    {
      "cell_type": "code",
      "source": [
        "print(\"이름을 입력하시오.\")\n",
        "name =input(\"이름 입력: \")\n",
        "print(\"나이를 입력하시오.\")\n",
        "age = int(input(\"나이 입력: \"))\n",
        "if age <= 20:\n",
        "  print(f\"프로그래밍을 배우는 최적의 나이입니다..\")\n",
        "else:\n",
        "  print(f\"아직도 늦지 않습니다. \")"
      ],
      "metadata": {
        "colab": {
          "base_uri": "https://localhost:8080/"
        },
        "id": "zfqIfdixoOfd",
        "outputId": "c64d71d5-1d1b-411d-aec9-d57b94507acb"
      },
      "execution_count": 17,
      "outputs": [
        {
          "output_type": "stream",
          "name": "stdout",
          "text": [
            "이름을 입력하시오.\n",
            "이름 입력: 이수지\n",
            "나이를 입력하시오.\n",
            "나이 입력: 22\n",
            "아직도 늦지 않습니다. \n"
          ]
        }
      ]
    }
  ]
}