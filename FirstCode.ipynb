{
  "nbformat": 4,
  "nbformat_minor": 0,
  "metadata": {
    "colab": {
      "provenance": [],
      "authorship_tag": "ABX9TyOomHIQfjovS2QlgiaSeO/H",
      "include_colab_link": true
    },
    "kernelspec": {
      "name": "python3",
      "display_name": "Python 3"
    },
    "language_info": {
      "name": "python"
    }
  },
  "cells": [
    {
      "cell_type": "markdown",
      "metadata": {
        "id": "view-in-github",
        "colab_type": "text"
      },
      "source": [
        "<a href=\"https://colab.research.google.com/github/leesujilee/myfirstcode/blob/main/FirstCode.ipynb\" target=\"_parent\"><img src=\"https://colab.research.google.com/assets/colab-badge.svg\" alt=\"Open In Colab\"/></a>"
      ]
    },
    {
      "cell_type": "markdown",
      "source": [
        "1. 나의 생에 첫번째 코드"
      ],
      "metadata": {
        "id": "3esmbShXH61U"
      }
    },
    {
      "cell_type": "code",
      "execution_count": null,
      "metadata": {
        "colab": {
          "base_uri": "https://localhost:8080/"
        },
        "id": "8QvYuOnLFy2m",
        "outputId": "07548ef6-728b-4541-9af4-3b3688d275cb"
      },
      "outputs": [
        {
          "output_type": "stream",
          "name": "stdout",
          "text": [
            "hello world!\n"
          ]
        }
      ],
      "source": [
        "print(\"hello world!\")"
      ]
    },
    {
      "cell_type": "code",
      "source": [
        "print(\"hello world!\")  # \"hello world!\"를 출력하는 코드입니다."
      ],
      "metadata": {
        "id": "Aa2rNV3WCkuW"
      },
      "execution_count": null,
      "outputs": []
    },
    {
      "cell_type": "markdown",
      "source": [
        "주어진 코드는 \"hello world!\"를 출력하는 간단한 코드입니다.\n",
        "위의 코드를 실행하면 \"hello world!\"가 출력됩니다. print() 함수는 괄호 안에 있는 값을 화면에 출력하는 역할을 합니다.\n",
        "\n",
        "아래는 실행 결과로서 \"hello world!\"가 출력되는 모습입니다.\n",
        "출력이 정상적으로 되었습니다. 이 코드는 프로그래밍 초보자들이 많이 사용하는 첫 번째 예제로, 화면에 텍스트를 출력하는 가장 간단한 형태입니다.\n"
      ],
      "metadata": {
        "id": "i2sePyBKClfv"
      }
    },
    {
      "cell_type": "markdown",
      "source": [
        "2. 두번째 코딩"
      ],
      "metadata": {
        "id": "8Vjbd-5hKcHL"
      }
    },
    {
      "cell_type": "code",
      "source": [
        "print(5+5, 6-2, 4*5, 6/2)"
      ],
      "metadata": {
        "colab": {
          "base_uri": "https://localhost:8080/"
        },
        "id": "1kgOX-FaKogx",
        "outputId": "4f437f5a-3a0b-4274-c845-47a17f73a0e9"
      },
      "execution_count": null,
      "outputs": [
        {
          "output_type": "stream",
          "name": "stdout",
          "text": [
            "10 4 20 3.0\n"
          ]
        }
      ]
    },
    {
      "cell_type": "code",
      "source": [
        "print(5+5, 6-2, 4*5, 6/2)  # 5+5, 6-2, 4*5, 6/2의 결과를 출력하는 코드입니다."
      ],
      "metadata": {
        "id": "t9vWB3KGC5Ql"
      },
      "execution_count": null,
      "outputs": []
    },
    {
      "cell_type": "markdown",
      "source": [
        "주어진 코드는 각각의 산술 연산을 수행하고 그 결과를 출력하는 코드입니다.\n",
        "위의 코드를 실행하면 다음과 같은 결과가 출력됩니다.\n",
        "\n",
        "각각의 수식이 계산되어 결과값이 출력됩니다. 여기서 +는 덧셈, -는 뺄셈, *는 곱셈, /는 나눗셈을 나타냅니다.\n",
        "\n",
        "5+5는 10을 계산하여 출력합니다.\n",
        "6-2는 4를 계산하여 출력합니다.\n",
        "4*5는 20을 계산하여 출력합니다.\n",
        "6/2는 3.0을 계산하여 출력합니다. 나눗셈 결과는 소수점까지 표현됩니다.\n",
        "산술 연산은 프로그래밍에서 매우 중요한 요소이며, 다양한 연산자와 우선순위를 가지고 있습니다. 이 예시를 통해 기본적인 산술 연산에 대해 알아볼 수 있었습니다."
      ],
      "metadata": {
        "id": "maUlyIE8DCdx"
      }
    }
  ]
}