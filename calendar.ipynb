{
  "nbformat": 4,
  "nbformat_minor": 0,
  "metadata": {
    "colab": {
      "provenance": [],
      "authorship_tag": "ABX9TyON+ifJMvH8/F2quQJPymSh",
      "include_colab_link": true
    },
    "kernelspec": {
      "name": "python3",
      "display_name": "Python 3"
    },
    "language_info": {
      "name": "python"
    }
  },
  "cells": [
    {
      "cell_type": "markdown",
      "metadata": {
        "id": "view-in-github",
        "colab_type": "text"
      },
      "source": [
        "<a href=\"https://colab.research.google.com/github/leesujilee/myfirstcode/blob/main/calendar.ipynb\" target=\"_parent\"><img src=\"https://colab.research.google.com/assets/colab-badge.svg\" alt=\"Open In Colab\"/></a>"
      ]
    },
    {
      "cell_type": "code",
      "execution_count": 1,
      "metadata": {
        "colab": {
          "base_uri": "https://localhost:8080/"
        },
        "id": "ANNBfwb7ZJAC",
        "outputId": "a39f582a-e5ec-4cdd-f7c0-a4bdc8cd4c22"
      },
      "outputs": [
        {
          "output_type": "stream",
          "name": "stdout",
          "text": [
            "    October 2023\n",
            "Mo Tu We Th Fr Sa Su\n",
            "                   1\n",
            " 2  3  4  5  6  7  8\n",
            " 9 10 11 12 13 14 15\n",
            "16 17 18 19 20 21 22\n",
            "23 24 25 26 27 28 29\n",
            "30 31\n",
            "\n"
          ]
        }
      ],
      "source": [
        "import calendar\n",
        "yy=2023\n",
        "mm=10\n",
        "print(calendar.month(yy,mm))"
      ]
    },
    {
      "cell_type": "markdown",
      "source": [
        " 2023 10월 19일 To Do List\n",
        "\n",
        "\n",
        "* 09:10~11:00 컴퓨터적사고와 기초코딩\n",
        "* 11:10~12:00 아동건강교육\n",
        "\n",
        "\n"
      ],
      "metadata": {
        "id": "OIf0_4XaasQP"
      }
    },
    {
      "cell_type": "code",
      "source": [
        "print (2023년 10월 19일 Yo DO List)\n",
        "print (09:10~11:00 컴퓨터적사고와 기초코딩)\n",
        "print (11:10~12:00 아동건강교육)\n"
      ],
      "metadata": {
        "colab": {
          "base_uri": "https://localhost:8080/",
          "height": 147
        },
        "id": "AIvGzGJMcd8g",
        "outputId": "201090a8-1fd6-466e-fe91-fdfed2e9971a"
      },
      "execution_count": 2,
      "outputs": [
        {
          "output_type": "error",
          "ename": "SyntaxError",
          "evalue": "ignored",
          "traceback": [
            "\u001b[0;36m  File \u001b[0;32m\"<ipython-input-2-18cff0a128cf>\"\u001b[0;36m, line \u001b[0;32m1\u001b[0m\n\u001b[0;31m    print (2023년 10월 19일 Yo DO List)\u001b[0m\n\u001b[0m              ^\u001b[0m\n\u001b[0;31mSyntaxError\u001b[0m\u001b[0;31m:\u001b[0m invalid decimal literal\n"
          ]
        }
      ]
    },
    {
      "cell_type": "code",
      "source": [
        "print(\"2023 10월 19일 To Do List\")\n",
        "print(\"09:10~11:00 컴퓨터적사고와 기초코딩\")\n",
        "print(\"11:10~12:00 아동건강교육\")\n",
        "print(\"12:10~13:00 점심\")\n",
        "print(\"13:10~18:00 잠자기\")\n",
        "print(\"18:10~19:00 저녁\")\n",
        "print(\"19:30~12:00 시험공부\")\n",
        "\n"
      ],
      "metadata": {
        "colab": {
          "base_uri": "https://localhost:8080/"
        },
        "id": "NWXaoYoNdj2h",
        "outputId": "81961ea6-83ba-4a8b-d4cd-daa530ec2d97"
      },
      "execution_count": 4,
      "outputs": [
        {
          "output_type": "stream",
          "name": "stdout",
          "text": [
            "2023 10월 19일 To Do List\n",
            "09:10~11:00 컴퓨터적사고와 기초코딩\n",
            "11:10~12:00 아동건강교육\n",
            "12:10~13:00 점심\n",
            "13:10~18:00 잠자기\n",
            "18:10~19:00 저녁\n",
            "19:30~12:00 시험공부\n"
          ]
        }
      ]
    }
  ]
}