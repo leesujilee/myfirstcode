{
  "nbformat": 4,
  "nbformat_minor": 0,
  "metadata": {
    "colab": {
      "provenance": [],
      "authorship_tag": "ABX9TyOcXefffGh6KEKu0ZazLs/K",
      "include_colab_link": true
    },
    "kernelspec": {
      "name": "python3",
      "display_name": "Python 3"
    },
    "language_info": {
      "name": "python"
    }
  },
  "cells": [
    {
      "cell_type": "markdown",
      "metadata": {
        "id": "view-in-github",
        "colab_type": "text"
      },
      "source": [
        "<a href=\"https://colab.research.google.com/github/leesujilee/myfirstcode/blob/main/calendar.ipynb\" target=\"_parent\"><img src=\"https://colab.research.google.com/assets/colab-badge.svg\" alt=\"Open In Colab\"/></a>"
      ]
    },
    {
      "cell_type": "code",
      "source": [
        "import calendar  # calendar 모듈을 가져옵니다.\n",
        "\n",
        "yy = 2023  # 연도를 2023으로 설정합니다.\n",
        "mm = 10  # 월을 10으로 설정합니다.\n",
        "print(calendar.month(yy, mm))  # 지정된 연도와 월에 해당하는 달력을 출력합니다."
      ],
      "metadata": {
        "colab": {
          "base_uri": "https://localhost:8080/"
        },
        "id": "S5yhT8D4AugP",
        "outputId": "a0315767-a3e7-4d9a-b180-99d1f90037ed"
      },
      "execution_count": 1,
      "outputs": [
        {
          "output_type": "stream",
          "name": "stdout",
          "text": [
            "    October 2023\n",
            "Mo Tu We Th Fr Sa Su\n",
            "                   1\n",
            " 2  3  4  5  6  7  8\n",
            " 9 10 11 12 13 14 15\n",
            "16 17 18 19 20 21 22\n",
            "23 24 25 26 27 28 29\n",
            "30 31\n",
            "\n"
          ]
        }
      ]
    },
    {
      "cell_type": "markdown",
      "source": [
        "주어진 코드는 calendar 모듈을 사용하여 특정 연도와 월에 해당하는 달력을 출력하는 코드입니다. 위의 코드를 실행하면 calendar 모듈을 가져옵니다. 그리고 yy 변수에 2023을, mm 변수에 10을 할당합니다. calendar.month() 함수를 사용하여 해당 연도와 월에 해당하는 달력을 출력합니다.\n",
        "코드가 정상적으로 동작하고 지정된 연도와 월에 해당하는 달력을 출력합니다.실행 결과로서 2023년 10월의 달력이 출력됩니다:"
      ],
      "metadata": {
        "id": "MSILceyuA3QG"
      }
    },
    {
      "cell_type": "markdown",
      "source": [
        " 2023 10월 19일 To Do List\n",
        "\n",
        "\n",
        "* 09:10~11:00 컴퓨터적사고와 기초코딩\n",
        "* 11:10~12:00 아동건강교육\n",
        "\n",
        "\n"
      ],
      "metadata": {
        "id": "OIf0_4XaasQP"
      }
    },
    {
      "cell_type": "code",
      "source": [
        "\n",
        "print(\"2023 10월 19일 To Do List\")  # \"2023 10월 19일 To Do List\"를 출력합니다.\n",
        "print(\"09:10~11:00 컴퓨터적사고와 기초코딩\")  # \"09:10~11:00 컴퓨터적사고와 기초코딩\"을 출력합니다.\n",
        "print(\"11:10~12:00 아동건강교육\")  # \"11:10~12:00 아동건강교육\"을 출력합니다.\n",
        "print(\"12:10~13:00 점심\")  # \"12:10~13:00 점심\"을 출력합니다.\n",
        "print(\"13:10~18:00 잠자기\")  # \"13:10~18:00 잠자기\"을 출력합니다.\n",
        "print(\"18:10~19:00 저녁\")  # \"18:10~19:00 저녁\"을 출력합니다.\n",
        "print(\"19:30~23:00 시험공부\")  # \"19:30~23:00 시험공부\"를 출력합니다."
      ],
      "metadata": {
        "colab": {
          "base_uri": "https://localhost:8080/"
        },
        "id": "6yDu8W7OBtG2",
        "outputId": "c920af56-1df4-4e7a-8044-223d8e6a1bf7"
      },
      "execution_count": 3,
      "outputs": [
        {
          "output_type": "stream",
          "name": "stdout",
          "text": [
            "2023 10월 19일 To Do List\n",
            "09:10~11:00 컴퓨터적사고와 기초코딩\n",
            "11:10~12:00 아동건강교육\n",
            "12:10~13:00 점심\n",
            "13:10~18:00 잠자기\n",
            "18:10~19:00 저녁\n",
            "19:30~23:00 시험공부\n"
          ]
        }
      ]
    },
    {
      "cell_type": "code",
      "source": [],
      "metadata": {
        "id": "3J4kjeJWCK41"
      },
      "execution_count": null,
      "outputs": []
    },
    {
      "cell_type": "markdown",
      "source": [
        "주어진 코드는 2023년 10월 19일의 일정을 출력하는 코드입니다.\n",
        "위의 코드를 실행하면 2023년 10월 19일의 일정이 출력됩니다. 시간과 일정이 각각 한 줄씩 출력됩니다.\n",
        "위에는 실행 결과로서 일정이 출력되는 모습입니다:\n",
        "일정이 정상적으로 출력되었습니다."
      ],
      "metadata": {
        "id": "awaJ10OuB2ZJ"
      }
    }
  ]
}